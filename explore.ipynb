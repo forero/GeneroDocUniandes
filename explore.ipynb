{
 "cells": [
  {
   "cell_type": "code",
   "execution_count": 1,
   "id": "7f04e9e1-1bf0-45ab-b57f-fc6c1b4b625f",
   "metadata": {},
   "outputs": [],
   "source": [
    "import pandas as pd\n",
    "import numpy as np\n",
    "import matplotlib.pyplot as plt"
   ]
  },
  {
   "cell_type": "code",
   "execution_count": 3,
   "id": "82724e37-c674-4d6a-81c7-11170bcd1f9c",
   "metadata": {},
   "outputs": [],
   "source": [
    "data = pd.read_csv('data/202120.csv')"
   ]
  },
  {
   "cell_type": "code",
   "execution_count": 5,
   "id": "74776c8a-64e1-4513-b357-405977a7ca5f",
   "metadata": {},
   "outputs": [],
   "source": [
    "data['frac_M'] = data['M']/(data['M']+data['H'])"
   ]
  },
  {
   "cell_type": "code",
   "execution_count": 7,
   "id": "420f857f-ec6b-4e8f-95a3-8c7e9c04143c",
   "metadata": {},
   "outputs": [
    {
     "data": {
      "text/html": [
       "<div>\n",
       "<style scoped>\n",
       "    .dataframe tbody tr th:only-of-type {\n",
       "        vertical-align: middle;\n",
       "    }\n",
       "\n",
       "    .dataframe tbody tr th {\n",
       "        vertical-align: top;\n",
       "    }\n",
       "\n",
       "    .dataframe thead th {\n",
       "        text-align: right;\n",
       "    }\n",
       "</style>\n",
       "<table border=\"1\" class=\"dataframe\">\n",
       "  <thead>\n",
       "    <tr style=\"text-align: right;\">\n",
       "      <th></th>\n",
       "      <th>Programa</th>\n",
       "      <th>M</th>\n",
       "      <th>H</th>\n",
       "      <th>frac_M</th>\n",
       "    </tr>\n",
       "  </thead>\n",
       "  <tbody>\n",
       "    <tr>\n",
       "      <th>4</th>\n",
       "      <td>Fisica</td>\n",
       "      <td>0</td>\n",
       "      <td>33</td>\n",
       "      <td>0.000000</td>\n",
       "    </tr>\n",
       "    <tr>\n",
       "      <th>6</th>\n",
       "      <td>Matematicas</td>\n",
       "      <td>1</td>\n",
       "      <td>14</td>\n",
       "      <td>0.066667</td>\n",
       "    </tr>\n",
       "    <tr>\n",
       "      <th>0</th>\n",
       "      <td>Admin</td>\n",
       "      <td>4</td>\n",
       "      <td>14</td>\n",
       "      <td>0.222222</td>\n",
       "    </tr>\n",
       "    <tr>\n",
       "      <th>15</th>\n",
       "      <td>Gestion Innovacion</td>\n",
       "      <td>8</td>\n",
       "      <td>21</td>\n",
       "      <td>0.275862</td>\n",
       "    </tr>\n",
       "    <tr>\n",
       "      <th>16</th>\n",
       "      <td>Ingenieria</td>\n",
       "      <td>31</td>\n",
       "      <td>73</td>\n",
       "      <td>0.298077</td>\n",
       "    </tr>\n",
       "    <tr>\n",
       "      <th>13</th>\n",
       "      <td>Economia</td>\n",
       "      <td>6</td>\n",
       "      <td>14</td>\n",
       "      <td>0.300000</td>\n",
       "    </tr>\n",
       "    <tr>\n",
       "      <th>5</th>\n",
       "      <td>Quimica</td>\n",
       "      <td>6</td>\n",
       "      <td>12</td>\n",
       "      <td>0.333333</td>\n",
       "    </tr>\n",
       "    <tr>\n",
       "      <th>14</th>\n",
       "      <td>Educacion</td>\n",
       "      <td>8</td>\n",
       "      <td>15</td>\n",
       "      <td>0.347826</td>\n",
       "    </tr>\n",
       "    <tr>\n",
       "      <th>8</th>\n",
       "      <td>Ciencia Politica</td>\n",
       "      <td>5</td>\n",
       "      <td>9</td>\n",
       "      <td>0.357143</td>\n",
       "    </tr>\n",
       "    <tr>\n",
       "      <th>11</th>\n",
       "      <td>Psicologia</td>\n",
       "      <td>5</td>\n",
       "      <td>8</td>\n",
       "      <td>0.384615</td>\n",
       "    </tr>\n",
       "    <tr>\n",
       "      <th>12</th>\n",
       "      <td>Derecho</td>\n",
       "      <td>14</td>\n",
       "      <td>19</td>\n",
       "      <td>0.424242</td>\n",
       "    </tr>\n",
       "    <tr>\n",
       "      <th>9</th>\n",
       "      <td>Filosofia</td>\n",
       "      <td>3</td>\n",
       "      <td>4</td>\n",
       "      <td>0.428571</td>\n",
       "    </tr>\n",
       "    <tr>\n",
       "      <th>10</th>\n",
       "      <td>Historia</td>\n",
       "      <td>5</td>\n",
       "      <td>6</td>\n",
       "      <td>0.454545</td>\n",
       "    </tr>\n",
       "    <tr>\n",
       "      <th>7</th>\n",
       "      <td>Antropologia</td>\n",
       "      <td>7</td>\n",
       "      <td>8</td>\n",
       "      <td>0.466667</td>\n",
       "    </tr>\n",
       "    <tr>\n",
       "      <th>3</th>\n",
       "      <td>Biologia</td>\n",
       "      <td>17</td>\n",
       "      <td>18</td>\n",
       "      <td>0.485714</td>\n",
       "    </tr>\n",
       "    <tr>\n",
       "      <th>1</th>\n",
       "      <td>Artes</td>\n",
       "      <td>4</td>\n",
       "      <td>3</td>\n",
       "      <td>0.571429</td>\n",
       "    </tr>\n",
       "    <tr>\n",
       "      <th>2</th>\n",
       "      <td>CIDER</td>\n",
       "      <td>9</td>\n",
       "      <td>3</td>\n",
       "      <td>0.750000</td>\n",
       "    </tr>\n",
       "  </tbody>\n",
       "</table>\n",
       "</div>"
      ],
      "text/plain": [
       "              Programa   M   H    frac_M\n",
       "4               Fisica   0  33  0.000000\n",
       "6          Matematicas   1  14  0.066667\n",
       "0                Admin   4  14  0.222222\n",
       "15  Gestion Innovacion   8  21  0.275862\n",
       "16          Ingenieria  31  73  0.298077\n",
       "13            Economia   6  14  0.300000\n",
       "5              Quimica   6  12  0.333333\n",
       "14           Educacion   8  15  0.347826\n",
       "8     Ciencia Politica   5   9  0.357143\n",
       "11          Psicologia   5   8  0.384615\n",
       "12             Derecho  14  19  0.424242\n",
       "9            Filosofia   3   4  0.428571\n",
       "10            Historia   5   6  0.454545\n",
       "7         Antropologia   7   8  0.466667\n",
       "3             Biologia  17  18  0.485714\n",
       "1                Artes   4   3  0.571429\n",
       "2                CIDER   9   3  0.750000"
      ]
     },
     "execution_count": 7,
     "metadata": {},
     "output_type": "execute_result"
    }
   ],
   "source": [
    "data.sort_values('frac_M')"
   ]
  },
  {
   "cell_type": "code",
   "execution_count": 45,
   "id": "cead74b2-090e-4593-9f56-df461b1389d7",
   "metadata": {},
   "outputs": [
    {
     "data": {
      "text/plain": [
       "Text(0.5, 1.0, 'Población Doctorado Uniandes 202120')"
      ]
     },
     "execution_count": 45,
     "metadata": {},
     "output_type": "execute_result"
    },
    {
     "data": {
      "image/png": "[encoded data removed]",
      "text/plain": [
       "<Figure size 500x500 with 1 Axes>"
      ]
     },
     "metadata": {},
     "output_type": "display_data"
    }
   ],
   "source": [
    "plt.figure(figsize=(5,5))\n",
    "#text_kwargs = dict(ha='center', va='center', fontsize=28, color='C1')\n",
    "for i in range(len(data)):\n",
    "    #print(data['frac_M'][i])\n",
    "    plt.scatter(data['M'][i]+data['H'][i], data['frac_M'][i], color='black')\n",
    "    plt.text(data['M'][i]+data['H'][i]+1, data['frac_M'][i]+0.01, data['Programa'][i], fontsize=7)#  **text_kwargs)\n",
    "plt.xlim([0,120])\n",
    "plt.ylim([0,0.8])\n",
    "plt.ylabel(\"Fracción Mujeres\")\n",
    "plt.xlabel(\"Estudiantes en total\")\n",
    "plt.title(\"Población Doctorado Uniandes 202120\")"
   ]
  },
  {
   "cell_type": "code",
   "execution_count": null,
   "id": "4a6a7703-fbfd-4d68-896b-7a6e4a9b300a",
   "metadata": {},
   "outputs": [],
   "source": []
  }
 ],
 "metadata": {
  "kernelspec": {
   "display_name": "Python 3 (ipykernel)",
   "language": "python",
   "name": "python3"
  },
  "language_info": {
   "codemirror_mode": {
    "name": "ipython",
    "version": 3
   },
   "file_extension": ".py",
   "mimetype": "text/x-python",
   "name": "python",
   "nbconvert_exporter": "python",
   "pygments_lexer": "ipython3",
   "version": "3.8.13"
  }
 },
 "nbformat": 4,
 "nbformat_minor": 5
}
